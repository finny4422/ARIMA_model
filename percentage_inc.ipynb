{
 "cells": [
  {
   "cell_type": "code",
   "execution_count": 30,
   "id": "2d79ead7-df29-478f-acde-cebb4a87abf9",
   "metadata": {},
   "outputs": [],
   "source": [
    "import pandas as pd\n",
    "import numpy as np\n",
    "import math\n",
    "from matplotlib import pyplot as plt"
   ]
  },
  {
   "cell_type": "code",
   "execution_count": 61,
   "id": "005c0356-a112-489f-a298-9f0be1bbca9f",
   "metadata": {},
   "outputs": [
    {
     "data": {
      "text/html": [
       "<div>\n",
       "<style scoped>\n",
       "    .dataframe tbody tr th:only-of-type {\n",
       "        vertical-align: middle;\n",
       "    }\n",
       "\n",
       "    .dataframe tbody tr th {\n",
       "        vertical-align: top;\n",
       "    }\n",
       "\n",
       "    .dataframe thead th {\n",
       "        text-align: right;\n",
       "    }\n",
       "</style>\n",
       "<table border=\"1\" class=\"dataframe\">\n",
       "  <thead>\n",
       "    <tr style=\"text-align: right;\">\n",
       "      <th></th>\n",
       "      <th>Country Name</th>\n",
       "      <th>Country Code</th>\n",
       "      <th>Indicator Name</th>\n",
       "      <th>Indicator Code</th>\n",
       "      <th>1990</th>\n",
       "      <th>1991</th>\n",
       "      <th>1992</th>\n",
       "      <th>1993</th>\n",
       "      <th>1994</th>\n",
       "      <th>1995</th>\n",
       "      <th>...</th>\n",
       "      <th>2010</th>\n",
       "      <th>2011</th>\n",
       "      <th>2012</th>\n",
       "      <th>2013</th>\n",
       "      <th>2014</th>\n",
       "      <th>2015</th>\n",
       "      <th>2016</th>\n",
       "      <th>2017</th>\n",
       "      <th>2018</th>\n",
       "      <th>2019</th>\n",
       "    </tr>\n",
       "  </thead>\n",
       "  <tbody>\n",
       "    <tr>\n",
       "      <th>0</th>\n",
       "      <td>Aruba</td>\n",
       "      <td>ABW</td>\n",
       "      <td>CO2 emissions (kt)</td>\n",
       "      <td>EN.ATM.CO2E.KT</td>\n",
       "      <td>NaN</td>\n",
       "      <td>NaN</td>\n",
       "      <td>NaN</td>\n",
       "      <td>NaN</td>\n",
       "      <td>NaN</td>\n",
       "      <td>NaN</td>\n",
       "      <td>...</td>\n",
       "      <td>NaN</td>\n",
       "      <td>NaN</td>\n",
       "      <td>NaN</td>\n",
       "      <td>NaN</td>\n",
       "      <td>NaN</td>\n",
       "      <td>NaN</td>\n",
       "      <td>NaN</td>\n",
       "      <td>NaN</td>\n",
       "      <td>NaN</td>\n",
       "      <td>NaN</td>\n",
       "    </tr>\n",
       "    <tr>\n",
       "      <th>1</th>\n",
       "      <td>Africa Eastern and Southern</td>\n",
       "      <td>AFE</td>\n",
       "      <td>CO2 emissions (kt)</td>\n",
       "      <td>EN.ATM.CO2E.KT</td>\n",
       "      <td>304354.882669</td>\n",
       "      <td>298735.435602</td>\n",
       "      <td>295090.0</td>\n",
       "      <td>303600.0</td>\n",
       "      <td>312160.0</td>\n",
       "      <td>327430.0</td>\n",
       "      <td>...</td>\n",
       "      <td>529639.997445</td>\n",
       "      <td>521760.009862</td>\n",
       "      <td>543439.999305</td>\n",
       "      <td>565430.012964</td>\n",
       "      <td>587699.992426</td>\n",
       "      <td>574029.994987</td>\n",
       "      <td>578510.015696</td>\n",
       "      <td>587509.992346</td>\n",
       "      <td>590040.005282</td>\n",
       "      <td>603030.016154</td>\n",
       "    </tr>\n",
       "  </tbody>\n",
       "</table>\n",
       "<p>2 rows × 34 columns</p>\n",
       "</div>"
      ],
      "text/plain": [
       "                  Country Name Country Code      Indicator Name  \\\n",
       "0                        Aruba          ABW  CO2 emissions (kt)   \n",
       "1  Africa Eastern and Southern          AFE  CO2 emissions (kt)   \n",
       "\n",
       "   Indicator Code           1990           1991      1992      1993      1994  \\\n",
       "0  EN.ATM.CO2E.KT            NaN            NaN       NaN       NaN       NaN   \n",
       "1  EN.ATM.CO2E.KT  304354.882669  298735.435602  295090.0  303600.0  312160.0   \n",
       "\n",
       "       1995  ...           2010           2011           2012           2013  \\\n",
       "0       NaN  ...            NaN            NaN            NaN            NaN   \n",
       "1  327430.0  ...  529639.997445  521760.009862  543439.999305  565430.012964   \n",
       "\n",
       "            2014           2015           2016           2017           2018  \\\n",
       "0            NaN            NaN            NaN            NaN            NaN   \n",
       "1  587699.992426  574029.994987  578510.015696  587509.992346  590040.005282   \n",
       "\n",
       "            2019  \n",
       "0            NaN  \n",
       "1  603030.016154  \n",
       "\n",
       "[2 rows x 34 columns]"
      ]
     },
     "execution_count": 61,
     "metadata": {},
     "output_type": "execute_result"
    }
   ],
   "source": [
    "data_set = pd.read_csv('API_EN.ATM.CO2E.KT_DS2_en_csv_v2_5358347.csv', on_bad_lines='skip')\n",
    "data_set.head(2)\n",
    "#Values here represent co2 emission in kilo-tonnes unit"
   ]
  },
  {
   "cell_type": "code",
   "execution_count": 32,
   "id": "77bb6825-7d2c-4f90-9658-ae81e722e46e",
   "metadata": {},
   "outputs": [
    {
     "data": {
      "text/plain": [
       "Index(['Country Name', 'Country Code', 'Indicator Name', 'Indicator Code',\n",
       "       '1990', '1991', '1992', '1993', '1994', '1995', '1996', '1997', '1998',\n",
       "       '1999', '2000', '2001', '2002', '2003', '2004', '2005', '2006', '2007',\n",
       "       '2008', '2009', '2010', '2011', '2012', '2013', '2014', '2015', '2016',\n",
       "       '2017', '2018', '2019'],\n",
       "      dtype='object')"
      ]
     },
     "execution_count": 32,
     "metadata": {},
     "output_type": "execute_result"
    }
   ],
   "source": [
    "data_set.columns"
   ]
  },
  {
   "cell_type": "code",
   "execution_count": 246,
   "id": "b6f60d3a-a328-4214-8278-ece58cf458c2",
   "metadata": {},
   "outputs": [],
   "source": [
    "lables=['1991', '1992', '1993', '1994', '1995', '1996', '1997', '1998',\n",
    "       '1999', '2000', '2001', '2002', '2003', '2004', '2005', '2006', '2007',\n",
    "       '2008', '2009', '2010', '2011', '2012', '2013', '2014', '2015', '2016',\n",
    "       '2017', '2018','2019']\n",
    "\n",
    "data_final = data_set[data_set['Country Name']=='China']\n",
    "data_final_2=data_final"
   ]
  },
  {
   "cell_type": "code",
   "execution_count": 247,
   "id": "7f5d957b-d0be-47e7-b4a3-c983fa46d579",
   "metadata": {},
   "outputs": [
    {
     "name": "stderr",
     "output_type": "stream",
     "text": [
      "C:\\Users\\Tony\\AppData\\Local\\Temp\\ipykernel_44700\\4267781669.py:1: SettingWithCopyWarning: \n",
      "A value is trying to be set on a copy of a slice from a DataFrame\n",
      "\n",
      "See the caveats in the documentation: https://pandas.pydata.org/pandas-docs/stable/user_guide/indexing.html#returning-a-view-versus-a-copy\n",
      "  data_final.drop('Country Code', axis=1, inplace=True)\n",
      "C:\\Users\\Tony\\AppData\\Local\\Temp\\ipykernel_44700\\4267781669.py:2: SettingWithCopyWarning: \n",
      "A value is trying to be set on a copy of a slice from a DataFrame\n",
      "\n",
      "See the caveats in the documentation: https://pandas.pydata.org/pandas-docs/stable/user_guide/indexing.html#returning-a-view-versus-a-copy\n",
      "  data_final.drop('Indicator Code', axis=1, inplace=True)\n",
      "C:\\Users\\Tony\\AppData\\Local\\Temp\\ipykernel_44700\\4267781669.py:3: SettingWithCopyWarning: \n",
      "A value is trying to be set on a copy of a slice from a DataFrame\n",
      "\n",
      "See the caveats in the documentation: https://pandas.pydata.org/pandas-docs/stable/user_guide/indexing.html#returning-a-view-versus-a-copy\n",
      "  data_final.drop('Indicator Name', axis=1, inplace=True)\n",
      "C:\\Users\\Tony\\AppData\\Local\\Temp\\ipykernel_44700\\4267781669.py:5: SettingWithCopyWarning: \n",
      "A value is trying to be set on a copy of a slice from a DataFrame\n",
      "\n",
      "See the caveats in the documentation: https://pandas.pydata.org/pandas-docs/stable/user_guide/indexing.html#returning-a-view-versus-a-copy\n",
      "  data_final.rename(columns={'Country Name':'years'}, inplace=True)\n"
     ]
    }
   ],
   "source": [
    "data_final.drop('Country Code', axis=1, inplace=True)\n",
    "data_final.drop('Indicator Code', axis=1, inplace=True)\n",
    "data_final.drop('Indicator Name', axis=1, inplace=True)\n",
    "\n",
    "data_final.rename(columns={'Country Name':'years'}, inplace=True)"
   ]
  },
  {
   "cell_type": "code",
   "execution_count": 255,
   "id": "cd5b5e40-a2f5-4a6d-9cca-ae561e70187c",
   "metadata": {},
   "outputs": [],
   "source": [
    "China_emis=data_final.transpose()\n",
    "China_emis.to_csv('China_emis.csv')"
   ]
  },
  {
   "cell_type": "code",
   "execution_count": 256,
   "id": "17686fef-bc71-46d4-8270-8c0a5bd8fd32",
   "metadata": {},
   "outputs": [],
   "source": [
    "dg=pd.read_csv('China_emis.csv', header=1)\n",
    "dg = dg.rename(columns={'China':'Emission  in KTs'})"
   ]
  },
  {
   "cell_type": "code",
   "execution_count": 257,
   "id": "1c30a378-4786-44f4-8c62-3343842b8930",
   "metadata": {},
   "outputs": [],
   "source": [
    "import os \n",
    "os.remove('China_emis.csv')\n",
    "dg.to_csv('China_emis.csv')"
   ]
  },
  {
   "cell_type": "code",
   "execution_count": 258,
   "id": "f0b3cdd9-7932-46de-aa53-3b63a7a43aef",
   "metadata": {},
   "outputs": [],
   "source": [
    "#similarly do it for india to find indian emission in KT"
   ]
  },
  {
   "cell_type": "markdown",
   "id": "ae61245e-8ff7-4e11-a1d6-bddf5519904e",
   "metadata": {},
   "source": [
    "#Find the graphical representation of percentage increase"
   ]
  },
  {
   "cell_type": "code",
   "execution_count": 197,
   "id": "961bcb09-57ce-4b99-8bf3-6c22454f4edd",
   "metadata": {},
   "outputs": [],
   "source": [
    "array1=np.array(data_final_2)"
   ]
  },
  {
   "cell_type": "code",
   "execution_count": 198,
   "id": "46d40a37-7772-40ad-a851-3c55413945c1",
   "metadata": {},
   "outputs": [
    {
     "data": {
      "text/plain": [
       "-2.55"
      ]
     },
     "execution_count": 198,
     "metadata": {},
     "output_type": "execute_result"
    }
   ],
   "source": [
    "l=[]\n",
    "\n",
    "for i in range(5,array1.size):\n",
    "    l.append(round((array1[0][i]-array1[0][i-1])*100/array1[0][i-1],2))\n",
    "    \n",
    "min(l) #we know this value may change in other countries so lets plot with extended limits"
   ]
  },
  {
   "cell_type": "code",
   "execution_count": 37,
   "id": "19dd7a4d-d85d-43cf-be5a-7b40115d954b",
   "metadata": {},
   "outputs": [
    {
     "data": {
      "image/png": "[encoded data removed]",
      "text/plain": [
       "<Figure size 640x480 with 1 Axes>"
      ]
     },
     "metadata": {},
     "output_type": "display_data"
    }
   ],
   "source": [
    "plt.plot(lables, l)\n",
    "plt.title(\"Yearly percentage increase in CO2 Emissions in China\")\n",
    "plt.ylim(-10, 50)\n",
    "plt.xlabel(\"Year\")\n",
    "plt.ylabel(\"Percentage increase of CO2 Emissions\")\n",
    "plt.show()"
   ]
  },
  {
   "cell_type": "code",
   "execution_count": null,
   "id": "71de7adf-31ef-4c6b-a67b-66a0c82442c5",
   "metadata": {},
   "outputs": [],
   "source": []
  }
 ],
 "metadata": {
  "kernelspec": {
   "display_name": "Python 3 (ipykernel)",
   "language": "python",
   "name": "python3"
  },
  "language_info": {
   "codemirror_mode": {
    "name": "ipython",
    "version": 3
   },
   "file_extension": ".py",
   "mimetype": "text/x-python",
   "name": "python",
   "nbconvert_exporter": "python",
   "pygments_lexer": "ipython3",
   "version": "3.12.1"
  }
 },
 "nbformat": 4,
 "nbformat_minor": 5
}
